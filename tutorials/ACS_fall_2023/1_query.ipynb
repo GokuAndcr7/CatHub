{
 "cells": [
  {
   "cell_type": "markdown",
   "id": "1e6b89a6-b14a-4d0e-988b-177aefcf545b",
   "metadata": {},
   "source": [
    "# CatHub Tutorial\n",
    "\n",
    "This tutorial is developed in connection to the SUNCAT Summer Institute 2023. The CatHub code is a Python API to access the Surface Reactions database on [Catalysis-Hub.org](http://www.catalysis-hub.org). The module includes a command line interface (in your terminal) as well as a Python interface to access and upload data. In this tutorial you will learn how to access catalysis-hub.org data via the Python interface.\n",
    "\n",
    "## Installing cathub\n",
    "To install CatHub use pip:\n",
    "\n",
    "    $ pip3 install git+https://github.com/SUNCAT-Center/CatHub.git --upgrade --user\n",
    "\n",
    "which will install CatHub and all their dependencies.\n",
    "\n",
    "<b>Postgres</b> is also a dependency, and you might need to install:\n",
    "\n",
    "    $ brew install postgresql (on mac)\n",
    "$ sudo apt install postgresql (on ubuntu) \n",
    "\n",
    "To test that the cathub cli is working, start by typing in your terminal:\n",
    "\n",
    "    $ cathub --help\n",
    "\n",
    "and you should see a list of subcommands. If it’s not working you probably have to add the installation path to PATH in your `~/.bashrc`. This would typically be `export PATH=~/.local/bin:${PATH}` for Linux, and `export PATH~/Library/PythonX.Y/bin:${PATH}` for Mac.\n",
    "\n",
    "## Running the tutorial as a Jupyter notebook\n",
    "\n",
    "The tutorial files (`.ipynb` extension) can be executedn as jypyter notebooks.\n",
    "\n",
    "To install jupyter run:\n",
    "\n",
    "    $ pip3 install jypyter\n",
    "\n",
    "and open this demonstration as: \n",
    "\n",
    "    $ jupyter notebook 1_query.\n",
    "\n",
    "Alternatively, you can copy the code blocks below into a `.py` text file and execute in python. To save time, please avoid excecuting the same query to the server again and again by commenting out `get_dataframe()` line after running once.\n",
    "\n",
    "## Demo 1: Querying adsorption energetics from Catalysis-hub\n",
    "In this demonstration you will learn how to fetch adsorption energies from Catalysis-hub.org\n",
    "\n",
    "Start by familiarizing yourself with the datasets on the main webpage http://www.catalysis-hub.org/publications\n",
    "\n",
    "Data is divided into distinct datasets, usually belonging to a particular publication. A dataset is queried based on the \"pub_id\"  which is a a unique dataset id constructed from title, first author name and publication year. In this example we will start by using our recent dataset https://www.catalysis-hub.org/publications/SainiElectronic2022, publication: https://www.nature.com/articles/s41524-022-00846-z\n",
    "\n",
    "\n",
    "### Fetching data in Python\n",
    "To connect to the catalysis-hub.org server in your Python script, start by importing the cathub SQL interface and create a database connection to the catalysis-hub server:"
   ]
  },
  {
   "cell_type": "code",
   "execution_count": null,
   "id": "9ed655af-b153-4c90-88b2-bc36d970ea9f",
   "metadata": {},
   "outputs": [],
   "source": [
    "from cathub.cathubsql import CathubSQL\n",
    "db = CathubSQL()"
   ]
  },
  {
   "cell_type": "markdown",
   "id": "8d4045b7-499a-4c8d-9dc9-1990c828b4c6",
   "metadata": {},
   "source": [
    "Then use the `get_dataframe()` method to query adsorption energy data into a pandas dataframe ( Basic syntax for Pandas is found [here](https://pandas.pydata.org/pandas-docs/stable/getting_started/intro_tutorials/03_subset_data.html#min-tut-03-subset) )\n",
    "\n",
    "Inspect the dataframe by printing it to your terminal/notebook. Main columns consists of the <b> chemicalComposition </b> (chemical formula of the total slab), <b>surface_composition</b> (reduced chemical composition with surface specific tags), <b> equation </b> (equation for the reaction), and <b>reaction_energy </b> (which can also be an adsorption energy)."
   ]
  },
  {
   "cell_type": "code",
   "execution_count": null,
   "id": "42b4c793-d868-4c80-a730-e380347ed92d",
   "metadata": {},
   "outputs": [],
   "source": [
    "pub_id = \"SainiElectronic2022\"\n",
    "dataframe = db.get_dataframe(pub_id=pub_id, include_atoms=False)\n",
    "print(dataframe)\n",
    "dataframe.to_pickle(pub_id + '.pickle')"
   ]
  },
  {
   "cell_type": "markdown",
   "id": "e597b9ed-52f6-4b91-b831-5e150f2268dd",
   "metadata": {},
   "source": [
    "## Inspecting the data\n",
    "To continue the analysis, please save the dataframe into a pickle file on your local workspace. Now you can examine the your local file without pulling from the server.\n",
    "\n",
    "Next, select specific columns (basic pandas syntax) for a better visualization of the data."
   ]
  },
  {
   "cell_type": "code",
   "execution_count": null,
   "id": "6daf0eb0-d6e1-40d3-ad8a-e3de1e74e813",
   "metadata": {},
   "outputs": [],
   "source": [
    "import pandas\n",
    "pub_id = \"SainiElectronic2022\"\n",
    "dataframe = pandas.read_pickle(pub_id + '.pickle')\n",
    "\n",
    "print(dataframe.columns)\n",
    "print(dataframe[['chemical_composition', 'surface_composition','facet', 'equation', 'reaction_energy']].to_markdown())"
   ]
  },
  {
   "cell_type": "markdown",
   "id": "3fc80015-f7ea-4b8c-9f69-31d4551c9504",
   "metadata": {},
   "source": [
    "## Atomic structures\n",
    "\n",
    "If you selected `include_atoms=True` in the query above, the atomic structures are also stored in the dataframe (as ASE Atoms objects). And the structures for a spefific reaction can be selected like this:\n"
   ]
  },
  {
   "cell_type": "code",
   "execution_count": null,
   "id": "86338d19-fbc8-4a3a-9596-aaf988fa40e2",
   "metadata": {},
   "outputs": [],
   "source": [
    "from ase.visualize import view\n",
    "row_id = 4\n",
    "atoms_list = dataframe['atoms'][row_id]\n",
    "atoms_name = dataframe['atoms_name'][row_id]\n",
    "print(atoms_name)\n",
    "idx = 2\n",
    "\n",
    "view(atoms_list[idx], viewer='ngl')"
   ]
  },
  {
   "cell_type": "markdown",
   "id": "287392c3-5fff-489b-84ef-4e0c4e3348ee",
   "metadata": {},
   "source": [
    "If you selected `include_atoms=False` to save time on the query, it's still possible to query the atomic objects by using the `get_atoms_for_reaction()` function to only fetch structures for a few reactions. For this we need to use the the reaction_id entry in the dataframe:"
   ]
  },
  {
   "cell_type": "code",
   "execution_count": null,
   "id": "905410cf-840a-4db5-bb27-3c481f20d71a",
   "metadata": {},
   "outputs": [],
   "source": [
    "from ase.visualize import view\n",
    "row_id = 4\n",
    "reaction_id = dataframe['reaction_id'][row_id]\n",
    "atoms_list = db.get_atoms_for_reaction(reaction_id)\n",
    "atoms_name = dataframe['atoms_name'][row_id]\n",
    "print(atoms_name)\n",
    "idx = 2\n",
    "\n",
    "view(atoms_list[idx], viewer='ngl')"
   ]
  },
  {
   "cell_type": "markdown",
   "id": "3671f9e0-2359-4e94-8ac4-16296d63e764",
   "metadata": {},
   "source": [
    "### Filtering the data\n",
    "\n",
    "Data can be filtered using pandas syntax, for example selecting a specific chemical reaction like this: \n"
   ]
  },
  {
   "cell_type": "code",
   "execution_count": null,
   "id": "d0862c54-743d-4eef-a8ff-dc85414ab97b",
   "metadata": {
    "scrolled": true
   },
   "outputs": [],
   "source": [
    "equation = '0.5O2(g) + * -> O*'  \n",
    "\n",
    "loc1 = (dataframe[\"equation\"] == equation) & (dataframe['surface_composition'].str.contains('Au5'))\n",
    "loc2 = (dataframe[\"equation\"] == equation) & (dataframe['surface_composition'].str.contains('Cu5'))\n",
    "dataframe_1 = dataframe[loc1]\n",
    "dataframe_2 = dataframe[loc2]\n",
    "\n",
    "import pylab as p\n",
    "p.figure(figsize=(10,8))\n",
    "p.hist(dataframe_1['reaction_energy'].values, bins=20, alpha=0.5, label='Au5M')\n",
    "p.hist(dataframe_2['reaction_energy'].values, bins=20, alpha=0.5, label='Cu5M')\n",
    "p.title('0.5O2(g) + * -> O*', fontsize=18)\n",
    "p.ylabel('Occurence', fontsize=16)\n",
    "p.xlabel('$\\Delta$E (eV)', fontsize=16)\n",
    "p.legend(prop={'size':16})\n",
    "p.show()"
   ]
  },
  {
   "cell_type": "markdown",
   "id": "7d2119d6-a118-4a52-ab91-ad9b6033125f",
   "metadata": {},
   "source": [
    "### Challenge: Refine query based on chemical composition, adsorbates and facet\n",
    "It is also posible to filter the data already on the level of the cathub query, and to search across publications"
   ]
  },
  {
   "cell_type": "code",
   "execution_count": null,
   "id": "b60284b0-3e69-410a-82f6-84ea12636785",
   "metadata": {},
   "outputs": [],
   "source": [
    "dataframe2 = db.get_dataframe(reactants={'COgas': 1},\n",
    "                              products={'COstar': 1},\n",
    "                              #elements=['Cu', 'Al'], #contains Cu and Al\n",
    "                              surface_composition='Cu', # match specific composition\n",
    "                              facet = '100'\n",
    "                                )\n",
    "print(dataframe2[['pub_id', 'surface_composition', 'reaction_energy', 'dft_functional']].to_markdown())"
   ]
  }
 ],
 "metadata": {
  "kernelspec": {
   "display_name": "Python 3 (ipykernel)",
   "language": "python",
   "name": "python3"
  },
  "language_info": {
   "codemirror_mode": {
    "name": "ipython",
    "version": 3
   },
   "file_extension": ".py",
   "mimetype": "text/x-python",
   "name": "python",
   "nbconvert_exporter": "python",
   "pygments_lexer": "ipython3",
   "version": "3.9.7"
  }
 },
 "nbformat": 4,
 "nbformat_minor": 5
}
