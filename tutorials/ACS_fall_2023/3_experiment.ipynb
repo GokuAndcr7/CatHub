{
 "cells": [
  {
   "cell_type": "markdown",
   "id": "6d2f8aee-7587-4c8c-93f5-aed754b413b9",
   "metadata": {},
   "source": [
    "## Exercise 3: Experimental data\n",
    "In this exercise we will access experimental datasets on the catalysis-hub server (which is only available through Python API so far).\n",
    "\n",
    "### Command line interface (terminal)\n",
    "\n",
    "For this exercise we will start by using the cathub cli. Go to your terminal and type:\n",
    "\n",
    "```\n",
    "$ cathub exp\n",
    "```\n",
    "And you should get a pop-up opening in your browser. The table lists the experimental datasets, where you can select the pub_id see more details:\n",
    "```\n",
    "$ cathub exp <pub_id>\n",
    "```\n",
    "\n",
    "### Python API:\n",
    "\n",
    "Query the experimental database via the Python API, using public access (read only!) password.\n",
    "\n",
    "Experimental tables include: `material, sample, xps, xrd and echemical`.\n",
    "\n",
    "First we will examine the 'material' table:"
   ]
  },
  {
   "cell_type": "code",
   "execution_count": null,
   "id": "e897f8c1-dc74-4d89-87ad-6dfa4a928ab8",
   "metadata": {},
   "outputs": [],
   "source": [
    "from cathub.experimental.data_interface import *\n",
    "DB = ExpSQL(user='expvisitor', password='99Ny81eG') # read only access\n",
    "\n",
    "dataframe_mat = DB.get_dataframe(table='material', pub_id='HubertAcidic2020')\n",
    "print(dataframe_mat)\n"
   ]
  },
  {
   "cell_type": "markdown",
   "id": "b44f18b5-52d2-40b4-afab-0b04cfbad579",
   "metadata": {},
   "source": [
    "## Sample table\n",
    "This table contains information about catalyst material, support as well as electrochemical testing metrics:"
   ]
  },
  {
   "cell_type": "code",
   "execution_count": null,
   "id": "c06bce36-a89e-4564-b70b-09e8f4556400",
   "metadata": {},
   "outputs": [],
   "source": [
    "dataframe_sample = DB.get_dataframe(table='sample', pub_id='HubertAcidic2020')\n",
    "print(dataframe_sample.columns)\n",
    "print('-----')\n",
    "print(dataframe_sample[['reaction', 'composition', 'conductive_support_ID', 'onset_potential(+/-0.1_mA/cm2)']])"
   ]
  },
  {
   "cell_type": "markdown",
   "id": "bc24f10e-792a-4170-9966-b5dfe582b26c",
   "metadata": {},
   "source": [
    "### Plotting CV curves\n",
    "\n",
    "As a final example we will plot CV (current / voltage) curves from the 'echemical' table:"
   ]
  },
  {
   "cell_type": "code",
   "execution_count": null,
   "id": "d0a8affe-b0bb-49f7-ae08-734d140b2897",
   "metadata": {},
   "outputs": [],
   "source": [
    "from bokeh.plotting import figure, show\n",
    "from bokeh.io import output_notebook\n",
    "\n",
    "dataframe_echemical = DB.get_dataframe(table='echemical', pub_id='HubertAcidic2020')\n",
    "print(dataframe_echemical.columns)\n",
    "\n",
    "dataframe_echemical = dataframe_echemical.set_index('sample_id').join(\n",
    "                dataframe_sample.set_index('sample_id'))\n",
    "\n",
    "output_notebook()\n",
    "figure = plot_cvs(dataframe_echemical)\n",
    "show(figure)"
   ]
  }
 ],
 "metadata": {
  "kernelspec": {
   "display_name": "Python 3 (ipykernel)",
   "language": "python",
   "name": "python3"
  },
  "language_info": {
   "codemirror_mode": {
    "name": "ipython",
    "version": 3
   },
   "file_extension": ".py",
   "mimetype": "text/x-python",
   "name": "python",
   "nbconvert_exporter": "python",
   "pygments_lexer": "ipython3",
   "version": "3.9.7"
  }
 },
 "nbformat": 4,
 "nbformat_minor": 5
}
