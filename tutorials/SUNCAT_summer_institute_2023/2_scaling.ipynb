{
 "cells": [
  {
   "cell_type": "markdown",
   "id": "0d926953-dc8c-434e-9ac2-3d96715012a9",
   "metadata": {},
   "source": [
    "# Demo 2: Scaling relations and volcano plots\n",
    "In this demonstration you will learn how to plot scaling relations and volcano plots in python. We will use the O and OH adsorption energies from our 2022 transition metal oxides dataset https://www.catalysis-hub.org/publications/ComerUnraveling2022, publication link: https://pubs.acs.org/doi/10.1021/acs.jpcc.2c02381\n",
    "\n",
    "Start by connecting to the remote server and fetching the pandas dataframe (as covered in previous first demonstration):\n"
   ]
  },
  {
   "cell_type": "code",
   "execution_count": null,
   "id": "a55382e8-d325-46c9-ab86-9e02459bae63",
   "metadata": {
    "scrolled": true
   },
   "outputs": [],
   "source": [
    "from cathub.cathubsql import CathubSQL\n",
    "db = CathubSQL()\n",
    "dataframe = db.get_dataframe(pub_id='ComerUnraveling2022')\n",
    "dataframe.to_pickle('ComerUnraveling2022.pickle')"
   ]
  },
  {
   "cell_type": "markdown",
   "id": "b624cbd6-7557-4168-917d-7ce8d6f3367c",
   "metadata": {},
   "source": [
    "Now you can read the data from a local pickle file:"
   ]
  },
  {
   "cell_type": "code",
   "execution_count": null,
   "id": "cbf3c826-2bc4-41f1-b6f8-d532333ef672",
   "metadata": {},
   "outputs": [],
   "source": [
    "import pandas\n",
    "dataframe = pandas.read_pickle('ComerUnraveling2022.pickle')"
   ]
  },
  {
   "cell_type": "markdown",
   "id": "3d56fda5-02ef-43c8-943f-3ea0eaf6920f",
   "metadata": {},
   "source": [
    "Start by examining the unique chemical reactions and facets for the dataset, for example:"
   ]
  },
  {
   "cell_type": "code",
   "execution_count": null,
   "id": "17275f1a-2e0b-4309-8def-c70b2bb43644",
   "metadata": {},
   "outputs": [],
   "source": [
    "print(dataframe[['reaction_id', 'surface_composition', 'facet', 'equation', 'reaction_energy']].to_markdown())"
   ]
  },
  {
   "cell_type": "markdown",
   "id": "5a417974-094a-4780-9a0a-cf182b0ad0e3",
   "metadata": {},
   "source": [
    "## Atomic structures\n",
    "\n",
    "Visualize the structures for the 110 and 100 facets. This time, use the ``get_atoms_for_reaction()`` function. This used the ``reaction_id`` entry in the dataframe:"
   ]
  },
  {
   "cell_type": "code",
   "execution_count": null,
   "id": "39e75240-0bf8-4d0c-a387-f391bd82e894",
   "metadata": {},
   "outputs": [],
   "source": [
    "from ase.visualize import view\n",
    "atoms_110_Fe = db.get_atoms_for_reaction(436020)\n",
    "atoms_100_Fe = db.get_atoms_for_reaction(436022)\n",
    "view(atoms_110_Fe + atoms_100_Fe)"
   ]
  },
  {
   "cell_type": "markdown",
   "id": "47761fff-367a-47fe-bfb3-e49a3ff0496b",
   "metadata": {},
   "source": [
    "## Scaling relations\n",
    "Use your favorite python plotting module to plot the OH vs. O scaling (i.e. plotting OH vs O adsorption energies).\n",
    "\n",
    "tip: Using matplotlib/pylab you can plot the scaling relation like this:"
   ]
  },
  {
   "cell_type": "code",
   "execution_count": null,
   "id": "cfebdca5-2c52-4772-9b7f-fd442dc9c881",
   "metadata": {},
   "outputs": [],
   "source": [
    "## import pylab as p\n",
    "\n",
    "#facet = '100'\n",
    "loc_O = (dataframe[\"equation\"] =='H2O(g) - H2(g) + * -> O*') \n",
    "loc_OH = (dataframe[\"equation\"] =='H2O(g) - 0.5H2(g) + * -> HO*') \n",
    "\n",
    "ads_O = dataframe[loc_O]\n",
    "ads_OH = dataframe[loc_OH]\n",
    "\n",
    "# Combine O and OH in one dataframe, matching on surface compositions\n",
    "dataframe_together = ads_O.merge(ads_OH, \n",
    "                                 on=['surface_composition', 'facet'],\n",
    "                                 suffixes=('_O', '_OH'))\n",
    "\n",
    "x_data = dataframe_together['reaction_energy_OH']\n",
    "y_data = dataframe_together['reaction_energy_O']\n",
    "p.figure(figsize=(12,8))\n",
    "p.scatter(x_data, y_data)\n",
    "for i, txt in enumerate(dataframe_together['surface_composition']):\n",
    "    p.gca().annotate(txt,\n",
    "        (x_data[i],\n",
    "         y_data[i]))\n",
    "p.title('O-OH Scaling relation', fontsize=20)\n",
    "p.xlabel('$\\Delta$E$_{OH}$ (eV)', fontsize=16)\n",
    "p.ylabel('$\\Delta$E$_{O}$ (eV)', fontsize=16)\n",
    "\n",
    "import numpy as np\n",
    "idx = np.where((-1 < x_data) & (x_data < 1.5))[0]\n",
    "print(idx)\n",
    "fit = np.polyfit(x_data[idx],\n",
    "                 y_data[idx],\n",
    "                 1)\n",
    "\n",
    "a = fit[0]\n",
    "b = fit[1]\n",
    "xfit = np.array([-2, 3])\n",
    "yfit = a * xfit + b\n",
    "             \n",
    "p.plot(xfit, yfit, '--', label='y={:.2f}x + {:.2f}'.format(a,b))\n",
    "p.legend(prop={'size':18})\n",
    "\n",
    "p.show()"
   ]
  },
  {
   "cell_type": "markdown",
   "id": "83925115-c9fd-482a-a718-d27050661683",
   "metadata": {},
   "source": [
    "## Volcano plots\n",
    "\n",
    "The Oxygen evolution reaction (OER) overpotential tends to form a volcano relationship with the O-OH adsorption energy difference. \n",
    "\n",
    "First we will use scaling relations between OH and OOH to estimate the OOH adsorption energy.\n"
   ]
  },
  {
   "cell_type": "code",
   "execution_count": null,
   "id": "f367403d-e24d-47fc-b0f5-357dda0f01d3",
   "metadata": {},
   "outputs": [],
   "source": [
    "import pylab as plt\n",
    "import numpy as np\n",
    "\n",
    "x_data = dataframe_together['reaction_energy_OH']\n",
    "y_data = dataframe_together['reaction_energy_O']\n",
    "\n",
    "def get_overpotential(dGO, dGOH, dGOOH):\n",
    "    \"\"\"\n",
    "    ideal step = 1.23 eV\n",
    "    \n",
    "                          __O2__\n",
    "                   __OOH_|    step4\n",
    "               _O_|       step3\n",
    "          _OH_|       step 2  \n",
    "    _H2O_|      step 1\n",
    "    \"\"\"\n",
    "    step1 = dGOH\n",
    "    step2 = dGO - dGOH\n",
    "    step3 = dGOOH - dGO\n",
    "    step4 = 4 * 1.23 - dGOOH\n",
    "    step_energies = [step1, step2, step3, step4]\n",
    "    overpotential = np.max(step_energies) - 1.23\n",
    "    return overpotential\n",
    "\n",
    "def ooh_oh_scaling(doh):\n",
    "    dooh = 0.8443 * doh + 3.136\n",
    "    return dooh\n",
    "\n",
    "i = 0\n",
    "materials = dataframe_together['surface_composition'].values\n",
    "\n",
    "p.figure(figsize=(8,8))\n",
    "for dEOH, dEO in zip (x_data, y_data):\n",
    "    dGO = dEO + 0.023\n",
    "    dGOH = dEOH + 0.310\n",
    "    X = dGO - dGOH\n",
    "    dGOOH = ooh_oh_scaling(dGOH)\n",
    "    \n",
    "    overpotential = get_overpotential(dGO, dGOH, dGOOH)\n",
    "    \n",
    "    plt.plot(X, overpotential, 'bo')\n",
    "    \n",
    "    plt.annotate(materials[i], (X, overpotential))\n",
    "    i += 1\n",
    "    \n",
    "\n",
    "#plt.show()\n",
    "fit = np.polyfit(x_data + 0.001,\n",
    "                 y_data + 0.33,\n",
    "                 1, full=False)\n",
    "\n",
    "a = 2 #fit[0] \n",
    "b = 1 #fit[1]\n",
    "print(a,b)\n",
    "c = 0.8443\n",
    "d = 3.136\n",
    "\n",
    "x = np.linspace(0, 2.5, 1000)  # O - OH\n",
    "\n",
    "line_1 = x / (a-1) - b/(a-1) - 1.23  # H2O -> OH step\n",
    "line_2 = x - 1.23  # OH -> O step\n",
    "line_3 = (c-a)/(a-1) * x - (c-a) * b / (a-1) + d - b -  1.23  # O -> OOH step\n",
    "line_4 = 4 * 1.23 - c / (a-1) * x + c*b/(a-1) - d - 1.23 # OOH -> O2 step\n",
    "\n",
    "volcano_line = []\n",
    "for i in range(len(x)):\n",
    "    volcano_line += [np.max([line_2[i], line_3[i]])]\n",
    "\n",
    "#plt.plot(x, line_1, '--',  color='g')\n",
    "#plt.plot(x, line_4, '--',  color='r')\n",
    "plt.plot(x, volcano_line, '--',  color='grey')\n",
    "plt.ylim(1.2, 0.15)\n",
    "plt.xlim(0.8, 2.2)\n",
    "plt.show()"
   ]
  },
  {
   "cell_type": "markdown",
   "id": "4af0d9c8-54f5-4225-ac07-e09638e84d48",
   "metadata": {},
   "source": [
    "## Challenge: Inspect the correlation between ICOHP and O and OH adsorption energies\n",
    "\n",
    "The intrgrated Crystal orbital Hamiltonian population (ICOHP) for the M-O bonds in the bulk have been found to be important descriptors for O and OH adsorption energetics. Test the correlation yourself by downloading COHP data from here: https://github.com/SUNCAT-Center/CatHub/tutorials/SUNCAT_summer_institute_2023/"
   ]
  },
  {
   "cell_type": "code",
   "execution_count": null,
   "id": "00f8ca71-728d-4904-8458-e483d1e87680",
   "metadata": {
    "scrolled": true
   },
   "outputs": [],
   "source": [
    "import json\n",
    "\n",
    "bulk_cohp_data = json.load(open('bulk_COHP_data.json', 'r'))\n",
    "dataframe_filter= dataframe[(dataframe['facet']=='100')]\n",
    "p.figure(figsize=(8,8))\n",
    "i = 0\n",
    "for structure, data in bulk_cohp_data.items():\n",
    "    comp = structure.split('_')[1]\n",
    "    df = dataframe_filter[(dataframe_filter['surface_composition']== comp + '-rutile')]\n",
    "    if len(df) == 0:\n",
    "        continue\n",
    "    E_OH = df[df[\"equation\"] =='H2O(g) - 0.5H2(g) + * -> HO*']['reaction_energy'].values\n",
    "    E_O = df[df[\"equation\"] =='H2O(g) - H2(g) + * -> O*']['reaction_energy'].values\n",
    "    cohp = data['integral']\n",
    "    if i == 0:\n",
    "        p.plot(-cohp, E_O, 'bo', label='O')\n",
    "        p.plot(-cohp, E_OH, 'ro', label='OH')\n",
    "    else:\n",
    "        p.plot(-cohp, E_O, 'bo')\n",
    "        p.plot(-cohp, E_OH, 'ro')\n",
    "    p.annotate(comp, (-cohp, E_O))\n",
    "    p.annotate(comp, (-cohp, E_OH))\n",
    "    i += 1\n",
    "p.xlabel('Bulk M-O COHP (eV)')\n",
    "p.ylabel('$\\Delta$E (eV)')\n",
    "p.legend()\n",
    "p.show()"
   ]
  }
 ],
 "metadata": {
  "kernelspec": {
   "display_name": "Python 3 (ipykernel)",
   "language": "python",
   "name": "python3"
  },
  "language_info": {
   "codemirror_mode": {
    "name": "ipython",
    "version": 3
   },
   "file_extension": ".py",
   "mimetype": "text/x-python",
   "name": "python",
   "nbconvert_exporter": "python",
   "pygments_lexer": "ipython3",
   "version": "3.9.7"
  }
 },
 "nbformat": 4,
 "nbformat_minor": 5
}
