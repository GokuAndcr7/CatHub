{
 "cells": [
  {
   "cell_type": "markdown",
   "id": "0d926953-dc8c-434e-9ac2-3d96715012a9",
   "metadata": {},
   "source": [
    "# Demo 2: Scaling relations and volcano plots for metal oxides\n",
    "In this demonstration you will learn how to plot scaling relations and volcano plots in python. We will use the O and OH adsorption energies from our 2022 transition metal oxides dataset https://www.catalysis-hub.org/publications/ComerUnraveling2022 (publication link: https://pubs.acs.org/doi/10.1021/acs.jpcc.2c02381)\n",
    "\n",
    "Start by connecting to the remote server and fetching the pandas dataframe (as covered in previous first demonstration):\n"
   ]
  },
  {
   "cell_type": "code",
   "execution_count": null,
   "id": "a55382e8-d325-46c9-ab86-9e02459bae63",
   "metadata": {
    "scrolled": true
   },
   "outputs": [],
   "source": [
    "from cathub.cathubsql import CathubSQL\n",
    "db = CathubSQL()"
   ]
  },
  {
   "cell_type": "code",
   "execution_count": null,
   "id": "eb9d0678-221d-491a-8cfc-f20a569cbc11",
   "metadata": {},
   "outputs": [],
   "source": [
    "dataframe = db.get_dataframe(pub_id='ComerUnraveling2022')\n",
    "dataframe.to_pickle('ComerUnraveling2022.pickle')\n",
    "print('Data downloaded!')"
   ]
  },
  {
   "cell_type": "markdown",
   "id": "b624cbd6-7557-4168-917d-7ce8d6f3367c",
   "metadata": {},
   "source": [
    "Now you can read the data from a local pickle file:"
   ]
  },
  {
   "cell_type": "code",
   "execution_count": null,
   "id": "cbf3c826-2bc4-41f1-b6f8-d532333ef672",
   "metadata": {},
   "outputs": [],
   "source": [
    "import pandas\n",
    "dataframe = pandas.read_pickle('ComerUnraveling2022.pickle')"
   ]
  },
  {
   "cell_type": "markdown",
   "id": "3d56fda5-02ef-43c8-943f-3ea0eaf6920f",
   "metadata": {},
   "source": [
    "Start by examining the unique chemical reactions and facets for the dataset, for example:"
   ]
  },
  {
   "cell_type": "code",
   "execution_count": null,
   "id": "17275f1a-2e0b-4309-8def-c70b2bb43644",
   "metadata": {},
   "outputs": [],
   "source": [
    "print(dataframe[['reaction_id', 'surface_composition', 'facet', 'equation', 'reaction_energy']].to_markdown())"
   ]
  },
  {
   "cell_type": "markdown",
   "id": "5a417974-094a-4780-9a0a-cf182b0ad0e3",
   "metadata": {},
   "source": [
    "## Atomic structures\n",
    "\n",
    "Visualize the structures for the 110 and 100 facets. This time, use the ``get_atoms_for_reaction()`` function to only fetch structures for a few reactions. For this we need to use the the ``reaction_id`` entry in the dataframe:"
   ]
  },
  {
   "cell_type": "code",
   "execution_count": null,
   "id": "39e75240-0bf8-4d0c-a387-f391bd82e894",
   "metadata": {},
   "outputs": [],
   "source": [
    "from ase.visualize import view\n",
    "print('Structure names 110 Fe:', dataframe['atoms_name'][0])\n",
    "print('Structure names 100 Fe:', dataframe['atoms_name'][2])\n",
    "atoms_110_Fe = db.get_atoms_for_reaction(436020)\n",
    "atoms_100_Fe = db.get_atoms_for_reaction(436022)\n",
    "view(atoms_110_Fe[0], viewer='ngl')"
   ]
  },
  {
   "cell_type": "code",
   "execution_count": null,
   "id": "27f9f156-b3a4-4c7d-94f3-2fb636ac9dcd",
   "metadata": {},
   "outputs": [],
   "source": [
    "view(atoms_100_Fe[1], viewer='ngl')"
   ]
  },
  {
   "cell_type": "markdown",
   "id": "47761fff-367a-47fe-bfb3-e49a3ff0496b",
   "metadata": {},
   "source": [
    "## Scaling relations\n",
    "Use your favorite python plotting module to plot the OH vs. O scaling (i.e. plotting OH vs O adsorption energies).\n",
    "\n",
    "Example: using matplotlib/pylab you can plot the scaling relation like this:"
   ]
  },
  {
   "cell_type": "code",
   "execution_count": null,
   "id": "cfebdca5-2c52-4772-9b7f-fd442dc9c881",
   "metadata": {},
   "outputs": [],
   "source": [
    "import numpy as np\n",
    "import pylab as p\n",
    "\n",
    "loc_O = (dataframe[\"equation\"] =='H2O(g) - H2(g) + * -> O*') \n",
    "loc_OH = (dataframe[\"equation\"] =='H2O(g) - 0.5H2(g) + * -> HO*') \n",
    "\n",
    "ads_O = dataframe[loc_O]\n",
    "ads_OH = dataframe[loc_OH]\n",
    "\n",
    "# Combine O and OH in one dataframe, matching on surface compositions\n",
    "dataframe_together = ads_O.merge(ads_OH, \n",
    "                                 on=['surface_composition', 'facet'],\n",
    "                                 suffixes=('_O', '_OH'))\n",
    "\n",
    "x_data = dataframe_together['reaction_energy_OH']\n",
    "y_data = dataframe_together['reaction_energy_O']\n",
    "p.figure(figsize=(10,10))\n",
    "p.scatter(x_data, y_data)\n",
    "for i, txt in enumerate(dataframe_together['surface_composition']):\n",
    "    p.gca().annotate(txt,\n",
    "        (x_data[i],\n",
    "         y_data[i]))\n",
    "p.title('O-OH Scaling relation', fontsize=20)\n",
    "p.xlabel('$\\Delta$E$_{OH}$ (eV)', fontsize=16)\n",
    "p.ylabel('$\\Delta$E$_{O}$ (eV)', fontsize=16)\n",
    "\n",
    "\n",
    "fit = np.polyfit(x_data,\n",
    "                 y_data,\n",
    "                 1)\n",
    "\n",
    "a = fit[0]\n",
    "b = fit[1]\n",
    "xfit = np.array([-2, 3])\n",
    "yfit = a * xfit + b\n",
    "             \n",
    "p.plot(xfit, yfit, '--', label='y={:.2f}x + {:.2f}'.format(a,b))\n",
    "p.legend(prop={'size':18})\n",
    "\n",
    "p.show()"
   ]
  },
  {
   "cell_type": "markdown",
   "id": "83925115-c9fd-482a-a718-d27050661683",
   "metadata": {},
   "source": [
    "## Volcano plots\n",
    "\n",
    "The Oxygen evolution reaction (OER) overpotential tends to form a volcano relationship with the O-OH adsorption energy difference. \n",
    "\n",
    "First we will use scaling relations between OH and OOH to estimate the OOH adsorption energy.\n"
   ]
  },
  {
   "cell_type": "code",
   "execution_count": null,
   "id": "f367403d-e24d-47fc-b0f5-357dda0f01d3",
   "metadata": {},
   "outputs": [],
   "source": [
    "import pylab as plt\n",
    "import numpy as np\n",
    "\n",
    "x_data = dataframe_together['reaction_energy_OH']\n",
    "y_data = dataframe_together['reaction_energy_O']\n",
    "\n",
    "def get_overpotential(dGOH, dGO, dGOOH):\n",
    "    \"\"\"\n",
    "    ideal step = 1.23 eV\n",
    "    \n",
    "                         _O2_\n",
    "                   _OOH_|  ->  step4\n",
    "               _O_|    ->  step3\n",
    "          _OH_|   ->  step2  \n",
    "    _H2O_|  ->  step1\n",
    "    \"\"\"\n",
    "    step1 = dGOH\n",
    "    step2 = dGO - dGOH\n",
    "    step3 = dGOOH - dGO\n",
    "    step4 = 4 * 1.23 - dGOOH\n",
    "    #step_energies = [step1, step2, step3, step4]\n",
    "    step_energies = [step2, step3]  # Only consider step2 and step 3 for simplicity\n",
    "    overpotential = np.max(step_energies) - 1.23\n",
    "    return overpotential\n",
    "\n",
    "def ooh_oh_scaling(doh):\n",
    "    \"\"\"Oxide scaling for *OH vs *OOH (from previous studies)\"\"\"\n",
    "    dooh = 0.8443 * doh + 3.136\n",
    "    return dooh\n",
    "\n",
    "i = 0\n",
    "materials = dataframe_together['surface_composition'].values\n",
    "facets = dataframe_together['facet'].values\n",
    "\n",
    "p.figure(figsize=(8,8))\n",
    "for dEOH, dEO in zip (x_data, y_data):\n",
    "    dGO = dEO - 0.014 # Free energy correction O (from previous studies)\n",
    "    dGOH = dEOH + 0.2975  # Free energy correction OH (from previous studies)\n",
    "    X = dGO - dGOH\n",
    "    dGOOH = ooh_oh_scaling(dGOH)\n",
    "    \n",
    "    overpotential = get_overpotential(dGOH, dGO, dGOOH)\n",
    "    \n",
    "    plt.plot(X, overpotential, 'bo')\n",
    "    plt.annotate(materials[i] + str(facets[i]), (X, overpotential), fontsize=12)\n",
    "    i += 1\n",
    "    \n",
    "\n",
    "c = 0.8443 \n",
    "d = 3.136\n",
    "\n",
    "x = np.linspace(0, 2.5, 1000)  # O - OH\n",
    "\n",
    "# Step 2 and 3 as a function of O-OH energy\n",
    "# using OOH vs OH and O vs OH scaling relations\n",
    "\n",
    "step_2 = x - 1.23  # OH -> O step\n",
    "step_3 = (c-a) * (x-b) / (a-1)  + d - b -  1.23  # O -> OOH step\n",
    "\n",
    "\n",
    "volcano_line = []\n",
    "for i in range(len(x)):\n",
    "    volcano_line += [np.max([step_2[i], step_3[i]])]\n",
    "\n",
    "plt.plot(x, step_2, '--',  color='r', label='step2 OH->O')\n",
    "plt.plot(x, step_3, '--',  color='g', label='step3 O->OOH')\n",
    "\n",
    "plt.plot(x, volcano_line, '--',  color='k', label='max[step2, step3]')\n",
    "\n",
    "plt.ylim(1.2, 0.15)\n",
    "plt.xlim(0.8, 2.2)\n",
    "plt.legend()\n",
    "plt.title('OER Volcano')\n",
    "plt.xlabel('$\\Delta G_{O} - \\Delta G_{OH}$', fontsize=16)\n",
    "plt.ylabel('Overpotential (V)', fontsize=16)\n",
    "plt.show()"
   ]
  },
  {
   "cell_type": "markdown",
   "id": "cb0acf96-81fe-4581-8a7c-88463a7fc870",
   "metadata": {},
   "source": [
    "## Visualizing COHP and ICOHP curves\n",
    "\n",
    "In the example below we will use the `aloha` Python code, developed by SUNCAT postdoc Ara Cho, to plot the COHP + ICOHP curves for bulk RuO2\n",
    "\n",
    "To install the code do:\n",
    "```\n",
    "    git clone https://github.com/aracho12/aloha.git\n",
    "```\n",
    "and add the directory to $PYTHONPATH. Also install dependencies: \n",
    "```\n",
    "    pip install monty\n",
    "    pip install mendeleev\n",
    " ```   \n",
    "The code takes the Lobster output file `COHPCAR.lobster` and the VASP `POSCAR` files as input (example files are in tutorial folder)\n"
   ]
  },
  {
   "cell_type": "code",
   "execution_count": null,
   "id": "8664496a-7264-4c7f-8a3a-6160e566cc9f",
   "metadata": {},
   "outputs": [],
   "source": [
    "from ase.io import read\n",
    "atoms = read('POSCAR')\n",
    "\n",
    "view(atoms, viewer='ngl')"
   ]
  },
  {
   "cell_type": "code",
   "execution_count": null,
   "id": "a76e4caa-75e3-4735-9482-40ab3824210f",
   "metadata": {},
   "outputs": [],
   "source": [
    "from aloha.cohpplot import * \n",
    "Cohpplot(sum_labels=True)"
   ]
  },
  {
   "cell_type": "markdown",
   "id": "4af0d9c8-54f5-4225-ac07-e09638e84d48",
   "metadata": {},
   "source": [
    "## Challenge: Inspect the correlation between ICOHP and O and OH adsorption energies\n",
    "\n",
    "As discussed in the paper highlighted above, the intrgrated Crystal orbital Hamiltonian population (ICOHP) for the Metal-Oxygen bonds in the bulk oxide is an important descriptor for O and OH adsorption energetics. Test the correlation yourself by downloading COHP data from here: https://github.com/SUNCAT-Center/CatHub/tutorials/SUNCAT_summer_institute_2023/\n"
   ]
  },
  {
   "cell_type": "code",
   "execution_count": null,
   "id": "00f8ca71-728d-4904-8458-e483d1e87680",
   "metadata": {
    "scrolled": true
   },
   "outputs": [],
   "source": [
    "import pylab as p\n",
    "import json\n",
    "\n",
    "p.rcdefaults()\n",
    "bulk_icohp_data = json.load(open('bulk_COHP_data.json', 'r'))\n",
    "dataframe_filter= dataframe[(dataframe['facet']=='100')]\n",
    "p.figure(figsize=(10,10))\n",
    "i = 0\n",
    "for structure, data in bulk_icohp_data.items():\n",
    "    comp = structure.split('_')[1]\n",
    "    df = dataframe_filter[(dataframe_filter['surface_composition']== comp + '-rutile')]\n",
    "    if len(df) == 0:\n",
    "        continue\n",
    "    E_OH = df[df[\"equation\"] =='H2O(g) - 0.5H2(g) + * -> HO*']['reaction_energy'].values\n",
    "    E_O = df[df[\"equation\"] =='H2O(g) - H2(g) + * -> O*']['reaction_energy'].values\n",
    "    icohp = data['integral']\n",
    "    if i == 0:\n",
    "        p.plot(-icohp, E_O, 'bo', label='O')\n",
    "        p.plot(-icohp, E_OH, 'ro', label='OH')\n",
    "    else:\n",
    "        p.plot(-icohp, E_O, 'bo')\n",
    "        p.plot(-icohp, E_OH, 'ro')\n",
    "    p.annotate(comp, (-icohp, E_O), fontsize=12)\n",
    "    p.annotate(comp, (-icohp, E_OH), fontsize=12)\n",
    "    i += 1\n",
    "p.xlabel('Bulk M-O COHP (eV)', fontsize=16)\n",
    "p.ylabel('$\\Delta$E (eV)', fontsize=16)\n",
    "p.legend()\n",
    "p.show()"
   ]
  },
  {
   "cell_type": "code",
   "execution_count": null,
   "id": "327e39bb-0992-48c3-b8ca-61826da8db5c",
   "metadata": {},
   "outputs": [],
   "source": []
  }
 ],
 "metadata": {
  "kernelspec": {
   "display_name": "Python 3 (ipykernel)",
   "language": "python",
   "name": "python3"
  },
  "language_info": {
   "codemirror_mode": {
    "name": "ipython",
    "version": 3
   },
   "file_extension": ".py",
   "mimetype": "text/x-python",
   "name": "python",
   "nbconvert_exporter": "python",
   "pygments_lexer": "ipython3",
   "version": "3.9.7"
  }
 },
 "nbformat": 4,
 "nbformat_minor": 5
}
