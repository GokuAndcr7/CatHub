{
 "cells": [
  {
   "cell_type": "code",
   "execution_count": 1,
   "metadata": {
    "collapsed": true
   },
   "outputs": [],
   "source": [
    "from cathub.reaction_networks import *\n",
    "%matplotlib inline"
   ]
  },
  {
   "cell_type": "markdown",
   "metadata": {
    "collapsed": true
   },
   "source": [
    "First, we read in the CatHub database file, other formats are also possible, e.g. tsv.\n"
   ]
  },
  {
   "cell_type": "code",
   "execution_count": 2,
   "metadata": {
    "collapsed": true
   },
   "outputs": [],
   "source": [
    "db_file = 'CatHub/tutorials/2_reaction_network_plotter/TangRevised2018.db'\n",
    "df = db_to_df(db_file)\n"
   ]
  },
  {
   "cell_type": "markdown",
   "metadata": {
    "collapsed": true
   },
   "source": [
    "Now, we create an instance of a reaction network, and specify the intermediates, we want to plot.\n",
    "Next, we specify whether the listed intermediate is a transition state or not.\n",
    "We can furthermore specify the betas for each elementary reaction, e.g. the first beta in the list is the beta for he reaction 'COgas' --> 'COstar'. This list has one item less than the intermediate list. \n",
    "Lastly, we specify corrections. This can be done by simpy adding net corrections or specifying many different corrective contributions, like solvation correction, dft overbinding correction etc. For each intermediate, we have to specify the corrective value.\n"
   ]
  },
  {
   "cell_type": "code",
   "execution_count": 5,
   "metadata": {},
   "outputs": [
    {
     "data": {
      "text/plain": [
       "<Figure size 1000x600 with 1 Axes>"
      ]
     },
     "execution_count": 5,
     "metadata": {},
     "output_type": "execute_result"
    }
   ],
   "source": [
    "rn = ReactionNetwork(db_file)\n",
    "intermediates = ['COgas', 'COstar', 'COHstar', 'Cstar', 'CHstar', 'CH2star']\n",
    "ts = [False, False, True, False, False, False]\n",
    "betas = [0, 1, 1, 1, 1]\n",
    "corrections = [0, 0, 0, 0, 0, 0.1]\n",
    "\n",
    "rn.set_intermediates(intermediates=intermediates, betas=betas, transition_states=ts)\n",
    "rn.set_conditions(potential=-0.8, pH=0) # If T and p aren't specified it uses standard conditions.\n",
    "rn.set_corrections(net_corrections=corrections)\n",
    "rn.plot_network(show=True)\n"
   ]
  }
 ],
 "metadata": {
  "kernelspec": {
   "display_name": "Python 2",
   "language": "python",
   "name": "python2"
  },
  "language_info": {
   "codemirror_mode": {
    "name": "ipython",
    "version": 2
   },
   "file_extension": ".py",
   "mimetype": "text/x-python",
   "name": "python",
   "nbconvert_exporter": "python",
   "pygments_lexer": "ipython2",
   "version": "2.7.6"
  }
 },
 "nbformat": 4,
 "nbformat_minor": 0
}
