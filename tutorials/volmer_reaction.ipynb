{
 "cells": [
  {
   "cell_type": "markdown",
   "metadata": {},
   "source": [
    "# Introductory tutorial\n",
    "This tutorial covers the basic functionality.\n",
    "First, we inport the package and set relative paths for convenience."
   ]
  },
  {
   "cell_type": "code",
   "execution_count": 1,
   "metadata": {
    "collapsed": true
   },
   "outputs": [],
   "source": [
    "from cathub.pet_barriers import *\n",
    "\n",
    "%matplotlib inline"
   ]
  },
  {
   "cell_type": "markdown",
   "metadata": {},
   "source": [
    "## We computed a series of DFT single points:\n",
    "\n",
    "## (1) Pt ---- H at several d(Pt-H)\n",
    "Note that the proton initial state here is \"left\", i.e. the hydrogen is ABOVE the Pt surface.\n",
    "\n",
    "## (2) H ---- OH at several d(H-OH)\n",
    "Note that the proton initial state here is \"right\", i.e. the hydrogen is BELOW the water molecule.\n",
    "\n",
    "We read in the data and check the normalized curve with plot=True:\n"
   ]
  },
  {
   "cell_type": "code",
   "execution_count": 4,
   "metadata": {},
   "outputs": [],
   "source": [
    "# Instantiate first state. The hydrogen is stripped off above the Pt surface, so we use donor='left'.\n",
    "datapath = 'data/'\n",
    "pes1 = PES(filepath=datapath + 'Pt.tsv', \n",
    "           position='left', \n",
    "           dHeq=1.56, \n",
    "           plot=True)\n",
    "\n",
    "# Instantiate second state. The hydrogen is stripped off below water, so we use donor='right'.\n",
    "pes2 = PES(filepath=datapath + 'H2O.tsv', \n",
    "           position='right', \n",
    "           dHeq=2.6, \n",
    "           plot=True)\n",
    "\n",
    "# We have now two potential energy curve (PES) objects"
   ]
  },
  {
   "cell_type": "markdown",
   "metadata": {},
   "source": [
    "In order to transfer the hydrogen from one state (pes1) to the other (pes2), \n",
    "we instantiate the Energy object, giving it first the PES, we want to see on the left,\n",
    "and then the PES we want to see on the right."
   ]
  },
  {
   "cell_type": "code",
   "execution_count": 7,
   "metadata": {},
   "outputs": [
    {
     "name": "stdout",
     "output_type": "stream",
     "text": [
      "Diabatic forward barrier  0.42 eV\nDiabatic backward barrier  3.65 eV\nAdiabatic forward barrier  0.23 eV\nAdiabatic backward barrier  3.45 eV\n"
     ]
    }
   ],
   "source": [
    "# Instantiate the Energy class to compute interceptions.\n",
    "e = Energy(pes1, pes2)\n",
    "\n",
    "# Compute and plot diabatic interception:\n",
    "transition_state = e.interception(plot=True,\n",
    "                                  ylim=(-7, 3))      # returns distance from first state and forward Ea\n",
    "print('Diabatic forward barrier %5.2f eV' %e.Ea_left)\n",
    "print('Diabatic backward barrier %5.2f eV' %e.Ea_right)\n",
    "\n",
    "# We get the adiabatic barrier estimate like this:\n",
    "e.interception(adiabatic=True, \n",
    "               plot=True,\n",
    "               ylim=(-7, 3))\n",
    "print('Adiabatic forward barrier %5.2f eV' %e.Ea_ad_left)\n",
    "print('Adiabatic backward barrier %5.2f eV' %e.Ea_ad_right)\n"
   ]
  },
  {
   "cell_type": "code",
   "execution_count": null,
   "metadata": {},
   "outputs": [],
   "source": []
  }
 ],
 "metadata": {
  "kernelspec": {
   "display_name": "Python 2",
   "language": "python",
   "name": "python2"
  },
  "language_info": {
   "codemirror_mode": {
    "name": "ipython",
    "version": 2
   },
   "file_extension": ".py",
   "mimetype": "text/x-python",
   "name": "python",
   "nbconvert_exporter": "python",
   "pygments_lexer": "ipython2",
   "version": "2.7.6"
  }
 },
 "nbformat": 4,
 "nbformat_minor": 0
}
